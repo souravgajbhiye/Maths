{
 "cells": [
  {
   "cell_type": "raw",
   "metadata": {},
   "source": [
    "# Q.1)Write  a function  that  takes  as  input  a  sentence  and  a  word,  from  the  user  and  counts the occurrences  of  the  word  in  the  sentence.  For  example:“I felt happy because I saw thatothers were happy and because I knew I should feel happy, but I wasn’t really happy.” and count the occurrence of the word ‘I’. Also, replace the word ‘I’ with ‘WE’and print the sentence."
   ]
  },
  {
   "cell_type": "code",
   "execution_count": 1,
   "metadata": {},
   "outputs": [
    {
     "name": "stdout",
     "output_type": "stream",
     "text": [
      "5\n",
      "WE felt happy because WE saw thatothers were happy and because WE knew WE should feel happy, but WE wasn't really happy.\n"
     ]
    }
   ],
   "source": [
    "def count(string, word): \n",
    "    a = string.split(\" \")  \n",
    "    count = 0 \n",
    "    for i in range(0, len(a)):\n",
    "        if (word == a[i]): \n",
    "            count =  count + 1\n",
    "    return count \n",
    "\n",
    "string =\"I felt happy because I saw thatothers were happy and because I knew I should feel happy, but I wasn't really happy.\"\n",
    "word =\"I\"\n",
    "print(count(string, word))\n",
    "print(string.replace(\"I\",\"WE\"))"
   ]
  },
  {
   "cell_type": "raw",
   "metadata": {},
   "source": [
    "## Q.2)Write a Python program that accepts from the user a value for the number of days and subtracts it from the current date and displays the result."
   ]
  },
  {
   "cell_type": "code",
   "execution_count": 2,
   "metadata": {},
   "outputs": [
    {
     "name": "stdout",
     "output_type": "stream",
     "text": [
      "Enter the number of days:-25\n",
      "Current date: 2019-12-29\n",
      "25 days subtracted from current date gives: 2019-12-04\n"
     ]
    }
   ],
   "source": [
    "from datetime import date,timedelta\n",
    "days=int(input(\"Enter the number of days:-\"))\n",
    "dt=date.today() - timedelta(days)\n",
    "print(\"Current date:\",date.today())\n",
    "## Printing the days after subtracting from current date.\n",
    "print(\"{} days subtracted from current date gives:\".format(days),dt)"
   ]
  },
  {
   "cell_type": "raw",
   "metadata": {},
   "source": [
    "## Q.3)Write a Python program to find the numbers which are divisible by 7 and are multiples of 5, between 2100 and 3500 (both included)."
   ]
  },
  {
   "cell_type": "code",
   "execution_count": 22,
   "metadata": {
    "scrolled": true
   },
   "outputs": [
    {
     "name": "stdout",
     "output_type": "stream",
     "text": [
      "Enter the lower number:-2100\n",
      "Enter the upper number:-3500\n",
      "2100\n",
      "2135\n",
      "2170\n",
      "2205\n",
      "2240\n",
      "2275\n",
      "2310\n",
      "2345\n",
      "2380\n",
      "2415\n",
      "2450\n",
      "2485\n",
      "2520\n",
      "2555\n",
      "2590\n",
      "2625\n",
      "2660\n",
      "2695\n",
      "2730\n",
      "2765\n",
      "2800\n",
      "2835\n",
      "2870\n",
      "2905\n",
      "2940\n",
      "2975\n",
      "3010\n",
      "3045\n",
      "3080\n",
      "3115\n",
      "3150\n",
      "3185\n",
      "3220\n",
      "3255\n",
      "3290\n",
      "3325\n",
      "3360\n",
      "3395\n",
      "3430\n",
      "3465\n",
      "3500\n"
     ]
    }
   ],
   "source": [
    "l=int(input(\"Enter the lower number:-\"))\n",
    "u=int(input(\"Enter the upper number:-\"))\n",
    "for i in range(l,u+1):\n",
    "    if i%7==0 and i%5==0:\n",
    "        print(i)"
   ]
  },
  {
   "cell_type": "raw",
   "metadata": {},
   "source": [
    "## Q.4)Write a Python function to check whether a given number is a prime number or not. Accept the number from the user."
   ]
  },
  {
   "cell_type": "code",
   "execution_count": 3,
   "metadata": {},
   "outputs": [
    {
     "name": "stdout",
     "output_type": "stream",
     "text": [
      "Enter the number to whether the number is prime or not:-2564\n",
      "It is not a prime number.\n"
     ]
    }
   ],
   "source": [
    "## Take the user input as number\n",
    "numb=int(input(\"Enter the number to whether the number is prime or not:-\"))\n",
    "if numb > 1:## actual logic of the program starts from here\n",
    "    for i in range(2,numb):\n",
    "        if numb % i==0:\n",
    "            print(\"It is not a prime number.\")\n",
    "            break\n",
    "    else:\n",
    "        print(\"it is a prime number.\")## print the desired message\n",
    "else:\n",
    "    print(\"Kindly enter correct number\")"
   ]
  },
  {
   "cell_type": "raw",
   "metadata": {},
   "source": [
    "## Q.5)Write a Python program to construct the following pattern. Accept the number of lines of the pattern to be printed from the user. For example, the pattern with 6 lines is as follows: "
   ]
  },
  {
   "cell_type": "code",
   "execution_count": 5,
   "metadata": {},
   "outputs": [
    {
     "name": "stdout",
     "output_type": "stream",
     "text": [
      "Enter the number of lines:-6\n",
      "     *\n",
      "    ***\n",
      "   *****\n",
      "  *******\n",
      " *********\n",
      "***********\n"
     ]
    }
   ],
   "source": [
    "num=int(input(\"Enter the number of lines:-\"))\n",
    "k=1\n",
    "for i in range(num):\n",
    "    for j in range(num-i-1):\n",
    "        print(end=\" \")\n",
    "    for j in range(0,k):\n",
    "        print(\"*\",end=\"\")\n",
    "    k=k+2 \n",
    "    print()"
   ]
  },
  {
   "cell_type": "raw",
   "metadata": {},
   "source": [
    "## Q.6)You are given the following list:\n",
    "## names = [‘Vipin’, 'Sanath', 'Priya', 'Sudhish', 'Akshay', 'Suraj']\n",
    "## Using a lambda function, filter those names that start with ‘S’."
   ]
  },
  {
   "cell_type": "code",
   "execution_count": 24,
   "metadata": {},
   "outputs": [
    {
     "name": "stdout",
     "output_type": "stream",
     "text": [
      "The original list is : ['Vipin', 'Sanath', 'Priya', 'Sudhish', 'Akshay', 'Suraj']\n",
      "All strings with given substring are : ['Sanath', 'Sudhish', 'Suraj']\n"
     ]
    }
   ],
   "source": [
    "naam = ['Vipin','Sanath','Priya','Sudhish','Akshay','Suraj'] \n",
    "print (\"The original list is : \" + str(naam))\n",
    "sub = 'S' or 's'\n",
    "new_list = list(filter(lambda x: sub in x, naam)) \n",
    "print (\"All strings with given substring are : \" + str(new_list)) "
   ]
  },
  {
   "cell_type": "raw",
   "metadata": {},
   "source": [
    "## Q.7)Write a function that accepts a positive single digit integer (n) from the user and computes the value of n+nn+nnn. For example: if n=5, 5+55+555 = 615 should be displayed."
   ]
  },
  {
   "cell_type": "code",
   "execution_count": 8,
   "metadata": {},
   "outputs": [
    {
     "name": "stdout",
     "output_type": "stream",
     "text": [
      "Enter an integer : 6\n",
      "The value of 6+66+666: 738\n"
     ]
    }
   ],
   "source": [
    "num = int(input(\"Enter an integer : \"))\n",
    "num1 = int( \"%s\" % num )\n",
    "num2 = int( \"%s%s\" % (num,num) )\n",
    "num3 = int( \"%s%s%s\" % (num,num,num) )\n",
    "# Print the addition result\n",
    "print (\"The value of {one}+{two}+{three}:\".format(one=num1,two=num2,three=num3),num1+num2+num3)"
   ]
  },
  {
   "cell_type": "raw",
   "metadata": {},
   "source": [
    "## Q.8)Write a Python function that takes as input an email address from the user and returns the domain as result."
   ]
  },
  {
   "cell_type": "code",
   "execution_count": 15,
   "metadata": {},
   "outputs": [
    {
     "name": "stdout",
     "output_type": "stream",
     "text": [
      "hotmail.com\n"
     ]
    }
   ],
   "source": [
    "string='souravgajbhiye@hotmail.com' \n",
    "print(string.split(\"@\")[1])"
   ]
  },
  {
   "cell_type": "raw",
   "metadata": {},
   "source": [
    "## Q.9)Write a Python program to get a string made of the first two and the last two characters from a given string. Other conditions as per the sample:\n",
    "## Sample String: 'w3resource’ Expected Result: 'w3ce’ Sample String: 'w3’ Expected Result: 'w3w3’ Sample String: 'w’ Expected Result: Empty String."
   ]
  },
  {
   "cell_type": "code",
   "execution_count": 19,
   "metadata": {},
   "outputs": [
    {
     "name": "stdout",
     "output_type": "stream",
     "text": [
      "Enter the String which you want to enter:-w3resource\n",
      "w3ce\n"
     ]
    }
   ],
   "source": [
    "string=input(\"Enter the String which you want to enter:-\")\n",
    "if string==\"w3resource\":\n",
    "    str1=string[0:2]+string[8:]\n",
    "    print(str1)    \n",
    "elif string==\"w3\":\n",
    "    str2=string*2\n",
    "    print(str2)\n",
    "else:\n",
    "    print(\"\")"
   ]
  },
  {
   "cell_type": "raw",
   "metadata": {},
   "source": [
    "## Q.10)Write a Python program to add 'ing' at the end of a given string (length of input string should be at least 3). If the given string already ends with 'ing' then add 'ly' instead. If the string length of the given string is less than 3, leave it unchanged:\n",
    "## Sample String: 'abc'\n",
    "## Expected Result: 'abcing'\n",
    "## Sample String: 'string'\n",
    "## Expected Result: 'stringly'."
   ]
  },
  {
   "cell_type": "code",
   "execution_count": 27,
   "metadata": {},
   "outputs": [
    {
     "name": "stdout",
     "output_type": "stream",
     "text": [
      "seeming\n"
     ]
    }
   ],
   "source": [
    "def add_strng(string):\n",
    "    l=len(string)\n",
    "    if l>=3:\n",
    "        if string[-3:]=='ing':\n",
    "            string=string+'ly'\n",
    "        else:\n",
    "            string=string+'ing'\n",
    "    return string\n",
    "print(add_strng('seem'))"
   ]
  },
  {
   "cell_type": "code",
   "execution_count": null,
   "metadata": {},
   "outputs": [],
   "source": []
  }
 ],
 "metadata": {
  "kernelspec": {
   "display_name": "Python 3",
   "language": "python",
   "name": "python3"
  },
  "language_info": {
   "codemirror_mode": {
    "name": "ipython",
    "version": 3
   },
   "file_extension": ".py",
   "mimetype": "text/x-python",
   "name": "python",
   "nbconvert_exporter": "python",
   "pygments_lexer": "ipython3",
   "version": "3.7.3"
  }
 },
 "nbformat": 4,
 "nbformat_minor": 2
}
