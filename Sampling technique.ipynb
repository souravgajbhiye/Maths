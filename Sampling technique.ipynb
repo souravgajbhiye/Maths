{
 "cells": [
  {
   "cell_type": "markdown",
   "metadata": {},
   "source": [
    "# Sampling tech. & Probability Distribution"
   ]
  },
  {
   "cell_type": "code",
   "execution_count": 1,
   "metadata": {},
   "outputs": [],
   "source": [
    "import scipy.stats as sp\n",
    "import numpy as np\n",
    "#import matplotlib.pyplot as plt"
   ]
  },
  {
   "cell_type": "code",
   "execution_count": 46,
   "metadata": {},
   "outputs": [
    {
     "name": "stdout",
     "output_type": "stream",
     "text": [
      "-2.8187560605963693\n"
     ]
    }
   ],
   "source": [
    "f = 1- sp.norm.ppf(0.95)        #sample mean=600/100==Sx/n**0.5==60 i.e sp.norm.cdf(limit,mean,std dev )\n",
    "g = sp.t.ppf(0.005,22)\n",
    "#x = f-g\n",
    "print(g)"
   ]
  },
  {
   "cell_type": "code",
   "execution_count": 3,
   "metadata": {},
   "outputs": [
    {
     "data": {
      "text/plain": [
       "1048.0"
      ]
     },
     "execution_count": 3,
     "metadata": {},
     "output_type": "execute_result"
    }
   ],
   "source": []
  },
  {
   "cell_type": "code",
   "execution_count": 3,
   "metadata": {},
   "outputs": [
    {
     "name": "stdout",
     "output_type": "stream",
     "text": [
      "0.21601744600250378\n",
      "1.959963984540054\n",
      "1.6448536269514722\n",
      "2.5758293035489004\n"
     ]
    }
   ],
   "source": [
    "print(sp.norm.cdf(50,55.5,7))    # inverse of cdf when we know area under curve \n",
    "print(sp.norm.ppf(0.975))    #error 5%\n",
    "print(sp.norm.ppf(0.950))   #error 10%\n",
    "print(sp.norm.ppf(0.995))    #error 1%"
   ]
  },
  {
   "cell_type": "markdown",
   "metadata": {},
   "source": [
    "# F Distribution"
   ]
  },
  {
   "cell_type": "code",
   "execution_count": 2,
   "metadata": {},
   "outputs": [],
   "source": [
    "from scipy.stats import f"
   ]
  },
  {
   "cell_type": "code",
   "execution_count": 9,
   "metadata": {},
   "outputs": [
    {
     "name": "stdout",
     "output_type": "stream",
     "text": [
      "3.805565252978057\n"
     ]
    }
   ],
   "source": [
    "print(f.ppf(0.95,2,13))    # (dof,dof)"
   ]
  },
  {
   "cell_type": "code",
   "execution_count": 7,
   "metadata": {},
   "outputs": [
    {
     "name": "stdout",
     "output_type": "stream",
     "text": [
      "1.529941560574752\n"
     ]
    }
   ],
   "source": [
    "print(f.ppf(0.975,60,120))"
   ]
  },
  {
   "cell_type": "code",
   "execution_count": 5,
   "metadata": {},
   "outputs": [],
   "source": [
    "import random"
   ]
  },
  {
   "cell_type": "code",
   "execution_count": 11,
   "metadata": {},
   "outputs": [
    {
     "name": "stdout",
     "output_type": "stream",
     "text": [
      "[81, 83, 85, 80, 83, 81, 82, 85, 84, 85, 83, 84, 80, 85, 82, 85, 82, 83, 82, 81, 81, 83, 83, 83, 83, 80, 81, 80, 83, 81, 85, 83, 81, 84, 80, 84, 83, 82, 82, 81, 80, 81, 81, 84, 84, 83, 80, 81, 82, 84, 83, 83, 83, 81, 83, 80, 85, 80, 85, 82, 85, 82, 83, 81, 85, 85, 84, 82, 84, 82, 82, 85, 84, 84, 83, 85, 81, 84, 81, 83, 84, 84, 85, 83, 81, 83, 84, 85, 81, 85, 81, 81, 83, 81, 83, 80, 82, 82, 82, 84]\n"
     ]
    }
   ],
   "source": [
    "import random\n",
    "mylist = []\n",
    "for i in range(0,100):\n",
    "    x = random.randint(80,85)\n",
    "    mylist.append(x)\n",
    "\n",
    "print(mylist)"
   ]
  },
  {
   "cell_type": "markdown",
   "metadata": {},
   "source": [
    "# Sampling and Sampling Distribution"
   ]
  },
  {
   "cell_type": "code",
   "execution_count": 3,
   "metadata": {},
   "outputs": [
    {
     "data": {
      "text/plain": [
       "(36.186734663204646, 39.21326533679536)"
      ]
     },
     "execution_count": 3,
     "metadata": {},
     "output_type": "execute_result"
    }
   ],
   "source": [
    "sp.norm.interval(0.9,37.7,9.2/10)"
   ]
  },
  {
   "cell_type": "code",
   "execution_count": 10,
   "metadata": {},
   "outputs": [
    {
     "data": {
      "text/plain": [
       "(14.310032509277606, 15.089967490371807)"
      ]
     },
     "execution_count": 10,
     "metadata": {},
     "output_type": "execute_result"
    }
   ],
   "source": [
    "sp.t.interval(0.3,24,14.7,1)\n",
    "#stats.norm.interval(0.68, loc=mu=mean, scale=sigma/sqrt(N))\n",
    "#stats.t.interval(C.I,d.of, loc=mu, scale=sigma/sqrt(N))"
   ]
  },
  {
   "cell_type": "code",
   "execution_count": 9,
   "metadata": {},
   "outputs": [
    {
     "data": {
      "text/plain": [
       "(17.708366182824584, 42.55696780429269)"
      ]
     },
     "execution_count": 9,
     "metadata": {},
     "output_type": "execute_result"
    }
   ],
   "source": [
    "sp.chi2.interval(0.9,29,0,1)"
   ]
  },
  {
   "cell_type": "code",
   "execution_count": 24,
   "metadata": {},
   "outputs": [
    {
     "data": {
      "text/plain": [
       "-2.575829303548901"
      ]
     },
     "execution_count": 24,
     "metadata": {},
     "output_type": "execute_result"
    }
   ],
   "source": [
    "sp.norm.ppf(0.005)"
   ]
  },
  {
   "cell_type": "code",
   "execution_count": 12,
   "metadata": {},
   "outputs": [
    {
     "data": {
      "text/plain": [
       "14.699999999824707"
      ]
     },
     "execution_count": 12,
     "metadata": {},
     "output_type": "execute_result"
    }
   ],
   "source": [
    "(14.310032509277606+15.089967490371807)/2"
   ]
  },
  {
   "cell_type": "code",
   "execution_count": 3,
   "metadata": {},
   "outputs": [
    {
     "data": {
      "text/plain": [
       "22.16426125297514"
      ]
     },
     "execution_count": 3,
     "metadata": {},
     "output_type": "execute_result"
    }
   ],
   "source": [
    "sp.chi2.ppf(0.01,40)"
   ]
  },
  {
   "cell_type": "code",
   "execution_count": 3,
   "metadata": {},
   "outputs": [
    {
     "data": {
      "text/plain": [
       "-1.9599639845400545"
      ]
     },
     "execution_count": 3,
     "metadata": {},
     "output_type": "execute_result"
    }
   ],
   "source": [
    "sp.norm.ppf(0.025)"
   ]
  },
  {
   "cell_type": "code",
   "execution_count": null,
   "metadata": {},
   "outputs": [],
   "source": []
  }
 ],
 "metadata": {
  "kernelspec": {
   "display_name": "Python 3",
   "language": "python",
   "name": "python3"
  },
  "language_info": {
   "codemirror_mode": {
    "name": "ipython",
    "version": 3
   },
   "file_extension": ".py",
   "mimetype": "text/x-python",
   "name": "python",
   "nbconvert_exporter": "python",
   "pygments_lexer": "ipython3",
   "version": "3.7.3"
  }
 },
 "nbformat": 4,
 "nbformat_minor": 2
}
