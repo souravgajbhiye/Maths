{
 "cells": [
  {
   "cell_type": "code",
   "execution_count": 2,
   "metadata": {},
   "outputs": [
    {
     "name": "stdout",
     "output_type": "stream",
     "text": [
      "z at alpha/2 =  2.5758293035489004\n",
      "range:  3.9132564262983767 6.086743573701623\n",
      "margin of error:  -1.0867435737016236\n"
     ]
    }
   ],
   "source": [
    "import numpy as np\n",
    "import matplotlib.pyplot as plt\n",
    "import scipy.stats as sp\n",
    "import math\n",
    "#normal distribution \n",
    "# m1=mean1 m2=mean2 alph=alpha/2,var1/2=standard deviation, n1, n2\n",
    "def popvar(m1,m2,alph,var1,var2,n1,n2):\n",
    "    a=(m1-m2)-sp.norm.ppf(1-alph)*math.sqrt((var1**2/n1)+(var2**2/n2))\n",
    "    b=(m1-m2)+sp.norm.ppf(1-alph)*math.sqrt((var1**2/n1)+(var2**2/n2))\n",
    "    v=sp.norm.ppf(alph)*math.sqrt((var1**2/n1)+(var2**2/n2))\n",
    "    print(\"z at alpha/2 = \",sp.norm.ppf(1-alph))\n",
    "    print(\"range: \",a,b)\n",
    "    print(\"margin of error: \",v)\n",
    "popvar(20,15,0.005,9,4,500,1000)"
   ]
  },
  {
   "cell_type": "code",
   "execution_count": 11,
   "metadata": {},
   "outputs": [],
   "source": [
    "#t distribution without variance\n",
    "def popt(m1,m2,alph,s1,s2,n1,n2):\n",
    "    q=(((s1*s1/n1)+(s2*s2/n2))*((s1*s1/n1)+(s2*s2/n2)))/((((s1*s1/n1)*(s1*s1/n1))/(n1-1))+(((s2*s2/n2)*(s2*s2/n2))/(n2-1)))\n",
    "    a=(m1-m2)-(sp.t.ppf(1-alph,int(q))*math.sqrt((s1**2/n1)+(s2**2/n2))) \n",
    "    b=(m1-m2)+(sp.t.ppf(1-alph,int(q))*math.sqrt((s1**2/n1)+(s2**2/n2)))\n",
    "    r=[a,b]\n",
    "    v=sp.t.ppf(1-alph,int(q))*math.sqrt((s1**2/n1)+(s2**2/n2))\n",
    "    print(\"degree of freedom= \",q)\n",
    "    print(\"range: \",r)\n",
    "    print(\"margin of error: \",v)\n",
    "    z=sp.t.ppf(1-alph,int(q))\n",
    "    print(\"t at alpha/2: \",z)"
   ]
  },
  {
   "cell_type": "code",
   "execution_count": 12,
   "metadata": {},
   "outputs": [],
   "source": [
    "# pooled data:\n",
    "import scipy.stats as sp\n",
    "import math\n",
    "def spooled(m1,m2,s1,s2,n1,n2,alpa):\n",
    "    m1=X\n",
    "    m2=Y\n",
    "    dof=n1+n2-2\n",
    "    T=sp.t.ppf(1-alpa,dof)\n",
    "    p1=(((n1-1)*(s1*s1))+((n2-1)*(s2*s2)))/dof\n",
    "    p2=math.sqrt(p1)\n",
    "    mean1=((X-Y)+(T*p2*(math.sqrt((1/n1)+(1/n2)))))\n",
    "    mean2=((X-Y)-(T*p2*(math.sqrt((1/n1)+(1/n2)))))\n",
    "    print(\"degree of freedom\",dof)\n",
    "    print(\"s square value pooled\",p1)\n",
    "    print(\"s=\",p2)\n",
    "    print(\"t at alpha/2= \",T)\n",
    "    print(\"range is [\",mean1,mean2,\"]\")\n",
    "    \n",
    "    "
   ]
  },
  {
   "cell_type": "code",
   "execution_count": 13,
   "metadata": {},
   "outputs": [
    {
     "name": "stdout",
     "output_type": "stream",
     "text": [
      "z at alpha/2 =  1.959963984540054\n",
      "range:  -561.8194438461161 -328.18055615388386\n",
      "margin of error:  -116.81944384611616\n"
     ]
    }
   ],
   "source": [
    "popvar(3915,4360,0.025,280,315,50,50)"
   ]
  },
  {
   "cell_type": "code",
   "execution_count": null,
   "metadata": {},
   "outputs": [],
   "source": []
  }
 ],
 "metadata": {
  "kernelspec": {
   "display_name": "Python 3",
   "language": "python",
   "name": "python3"
  },
  "language_info": {
   "codemirror_mode": {
    "name": "ipython",
    "version": 3
   },
   "file_extension": ".py",
   "mimetype": "text/x-python",
   "name": "python",
   "nbconvert_exporter": "python",
   "pygments_lexer": "ipython3",
   "version": "3.7.3"
  }
 },
 "nbformat": 4,
 "nbformat_minor": 2
}
