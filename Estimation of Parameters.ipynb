{
 "cells": [
  {
   "cell_type": "code",
   "execution_count": 1,
   "metadata": {},
   "outputs": [],
   "source": [
    "import numpy as np\n",
    "import matplotlib.pyplot as plt\n",
    "import scipy.stats as sp\n",
    "from math import sqrt"
   ]
  },
  {
   "cell_type": "markdown",
   "metadata": {},
   "source": [
    "# Hypothesis testing using p value"
   ]
  },
  {
   "cell_type": "code",
   "execution_count": 4,
   "metadata": {},
   "outputs": [
    {
     "name": "stdout",
     "output_type": "stream",
     "text": [
      "Z Calculated : 1.8257418583505556\n",
      "P Value : 0.9660554225690856\n",
      "Null Hypothesis cannot be rejected\n"
     ]
    }
   ],
   "source": [
    "def z_cal(x_bar,mu,sigma,n,alpha):\n",
    "    #x_bar = 9900\n",
    "    #mu = 10000\n",
    "    #sigma =120\n",
    "    n = 30\n",
    "    z_cal = (x_bar-mu)/(sigma/sqrt(n))\n",
    "    p_val = sp.norm.cdf(z_cal)\n",
    "    print(\"Z Calculated :\",z_cal)\n",
    "    print(\"P Value :\",p_val)\n",
    "    if p_val<alpha:\n",
    "        print('Null Hypothesis is rejected')\n",
    "    else :\n",
    "        print('Null Hypothesis cannot be rejected')\n",
    "z_cal(2.1,2,0.3,51,0.05)\n",
    "\n"
   ]
  },
  {
   "cell_type": "code",
   "execution_count": 5,
   "metadata": {},
   "outputs": [
    {
     "name": "stdout",
     "output_type": "stream",
     "text": [
      "T Calculated : 3.0843441816387287\n",
      "P Value : 0.9952693815327293\n",
      "Null Hypothesis cannot be rejected\n"
     ]
    }
   ],
   "source": [
    "def t_cal(x_bar,mu,sigma,n,alpha):\n",
    "    #x_bar = 9900\n",
    "    #mu = 10000\n",
    "    #sigma =120\n",
    "    \n",
    "    t_cal = (x_bar-mu)/(sigma/sqrt(n))\n",
    "    p_val = sp.t.cdf(t_cal,n-1)\n",
    "    print(\"T Calculated :\",t_cal)\n",
    "    print(\"P Value :\",p_val)\n",
    "    if p_val<alpha:\n",
    "        print('Null Hypothesis is rejected')\n",
    "    else :\n",
    "        print('Null Hypothesis cannot be rejected')\n",
    "t_cal(26.6153,21,6.5642,13,0.05)"
   ]
  },
  {
   "cell_type": "markdown",
   "metadata": {},
   "source": [
    "# SIngle Parameter"
   ]
  },
  {
   "cell_type": "code",
   "execution_count": null,
   "metadata": {},
   "outputs": [],
   "source": []
  },
  {
   "cell_type": "markdown",
   "metadata": {},
   "source": [
    "Confidence Interval Estimation of Population Mean, μ, when σ is known Assumptions –Population standard deviation σ is known –Population is normally distributed –If population is not normal, use large sample"
   ]
  },
  {
   "cell_type": "code",
   "execution_count": 2,
   "metadata": {},
   "outputs": [
    {
     "name": "stdout",
     "output_type": "stream",
     "text": [
      "Distribution is t or z: z\n",
      "10.535973400440648 < mu < 16.58402659955935\n"
     ]
    }
   ],
   "source": [
    "import numpy as np\n",
    "import matplotlib.pyplot as plt\n",
    "import scipy.stats as sp\n",
    "from math import sqrt\n",
    "def m_int(x_bar,sigma,n,alpha):\n",
    "    \"\"\"alpha=alpha/2\n",
    "       x_bar = mean\n",
    "       sigma = std dev\"\"\"\n",
    "    d = input(\"Distribution is t or z: \")\n",
    "    if d == 'z':\n",
    "        z=sp.norm.ppf(1-alpha)\n",
    "        est = z*(sigma/sqrt(n))\n",
    "    elif d=='t' :\n",
    "        t=sp.t.ppf(1-alpha,n-1)\n",
    "        est = t*(sigma/sqrt(n))\n",
    "    print(x_bar-est,'< mu <',x_bar+est)\n",
    "    \n",
    "m_int(13.56,7.8,18,0.05)    "
   ]
  },
  {
   "cell_type": "markdown",
   "metadata": {},
   "source": [
    "Confidence Interval: Proportions "
   ]
  },
  {
   "cell_type": "code",
   "execution_count": 3,
   "metadata": {},
   "outputs": [
    {
     "name": "stdout",
     "output_type": "stream",
     "text": [
      "Value of Test statistic Z or T is : -17.535616553735874\n",
      "Distribution is t or z: n\n",
      "P value: 3.8307049604744016e-69\n",
      "We cannot reject the Null Hypothesis\n"
     ]
    }
   ],
   "source": [
    "def prop_t_s(x,n,p0):\n",
    "    # x= mean\n",
    "    #d = input(\"Distribution is t or z: \")\n",
    "    est = (x-(n*p0))/(sqrt(n*p0*(1-p0)))\n",
    "    print(\"Value of Test statistic Z or T is :\",est)\n",
    "    # for p value\n",
    "    d = input(\"Distribution is t or z: \")\n",
    "    if d=='n':\n",
    "        p = sp.norm.cdf(est)\n",
    "        print(\"P value:\",p)\n",
    "    else :\n",
    "        p= sp.t.cdf(est,n-1)\n",
    "        print(\"P value:\",p)\n",
    "    alpha = 0.01\n",
    "    if p<alpha:\n",
    "        print(\"We cannot reject the Null Hypothesis\")\n",
    "    else:\n",
    "        print(\"We reject the Null Hypothesis\")\n",
    "            \n",
    "prop_t_s(13,82,0.85)    "
   ]
  },
  {
   "cell_type": "markdown",
   "metadata": {},
   "source": [
    "Finding Intervals"
   ]
  },
  {
   "cell_type": "code",
   "execution_count": 8,
   "metadata": {},
   "outputs": [
    {
     "data": {
      "text/plain": [
       "(5.942935082567373, 6.4410649174326275)"
      ]
     },
     "execution_count": 8,
     "metadata": {},
     "output_type": "execute_result"
    }
   ],
   "source": [
    "# Mean interval\n",
    "# for Normal\n",
    "# sp.norm.interval(c.i,mean,s/root_n)\n",
    "sp.norm.interval(0.95,48,14/sqrt(61))\n",
    "\n",
    "# for t distributionz distribution\n",
    "# sp.t.interval(c.i,d.f=n-1,mean,s/root_n)\n",
    "sp.t.interval(0.95,11,6.192,0.392/sqrt(12))\n",
    "\n",
    "# Proportion Interval\n",
    "import statsmodels.stats.proportion as smp    # proportion confidence interval\n",
    "lw,up=smp.proportion_confint(64,100,alpha=0.90,method='normal')   #(given proportion,sample=n,alpha=100-CI ,method)\n",
    "print(lw,up)\n",
    "\n",
    "# F distribution Intervals\n",
    "sp.f.interval(0.95,3,5,0,0.346)      #for f distribution parameter(c.i,df2,df2,mean=0 if not given,s2^2/s1^2) df =n-1 s1==Standard deviation\n",
    "\n",
    "# Chi square\n",
    "sp.chi2.interval(0.90,8,0,2/sqrt(9))  #(c.i,df=n-1,mean=0 if not given,s/root_n)"
   ]
  },
  {
   "cell_type": "markdown",
   "metadata": {},
   "source": [
    "Confidence Interval Estimation  of Population SD (σ) "
   ]
  },
  {
   "cell_type": "code",
   "execution_count": 10,
   "metadata": {},
   "outputs": [
    {
     "name": "stdout",
     "output_type": "stream",
     "text": [
      "13.865068869030535 < sigma_square < 16.3565110824502\n"
     ]
    }
   ],
   "source": [
    "# Confidence interval estimate for SD \n",
    "def sd_ci_sd(n,s,c_i):\n",
    "    chi = sp.chi2.ppf(c_i,n-1)\n",
    "    chi1 = sp.chi2.ppf(1-c_i,n-1)\n",
    "    est1 = sqrt (((n-1)*s*s) / chi)\n",
    "    est2 = sqrt (((n-1)*s*s) / chi1)\n",
    "    print(est1, '< sigma_square <',est2)\n",
    "def sd_ci_var(n,s,c_i):\n",
    "    chi = sp.chi2.ppf(c_i,n-1)\n",
    "    chi1 = sp.chi2.ppf(1-c_i,n-1)\n",
    "    est1 = (((n-1)*s*s) / chi)\n",
    "    est2 = (((n-1)*s*s) / chi1)\n",
    "    print(est1, '< sigma_square <',est2)\n",
    "sd_ci_sd(200,15,0.95)  "
   ]
  },
  {
   "cell_type": "markdown",
   "metadata": {},
   "source": [
    "# Two Parameter"
   ]
  },
  {
   "cell_type": "markdown",
   "metadata": {},
   "source": [
    "# CI Estimation of difference of Two Population Proportion (p1-p2) "
   ]
  },
  {
   "cell_type": "code",
   "execution_count": 15,
   "metadata": {},
   "outputs": [
    {
     "name": "stdout",
     "output_type": "stream",
     "text": [
      "0.6 0.4 0.6235294117647059 0.5636363636363636 0.02680888989757142\n",
      "(0.007348589463602603, 0.11243750679308197)\n"
     ]
    }
   ],
   "source": [
    "def prop_2par(x1,x2,n1,n2,c_i):\n",
    "    \"\"\" For proprtion parameter (c.i,pcap1-pcap2,uderroot(pcap*qcap(1/n1+1/n2)))\n",
    "    pcap=x1+x2/n1+n2  and qcap=1-pcap\"\"\"\n",
    "    pcap1=x1/(n1)\n",
    "    pcap2=x2/(n2)\n",
    "    pcap=(x1+x2)/(n1+n2)  \n",
    "    qcap=1-pcap\n",
    "    print(pcap,qcap,pcap1,pcap2,sqrt(pcap*qcap*((1/n1)+(1/n2))))\n",
    "    print(sp.norm.interval(c_i,pcap1-pcap2,sqrt(pcap*qcap*((1/n1)+(1/n2)))))  \n",
    "prop_2par(530,310,850,550,0.95)"
   ]
  },
  {
   "cell_type": "code",
   "execution_count": 17,
   "metadata": {},
   "outputs": [
    {
     "data": {
      "text/plain": [
       "(0.007372965214326614, 0.11242703478567351)"
      ]
     },
     "execution_count": 17,
     "metadata": {},
     "output_type": "execute_result"
    }
   ],
   "source": [
    "sp.norm.interval(0.95,(0.6235-0.5636),0.0268)"
   ]
  },
  {
   "cell_type": "markdown",
   "metadata": {},
   "source": [
    "Case 1) When σ1 and σ2 Known "
   ]
  },
  {
   "cell_type": "code",
   "execution_count": 9,
   "metadata": {},
   "outputs": [
    {
     "name": "stdout",
     "output_type": "stream",
     "text": [
      "-5.121441515505434 < m1-m2 < -4.878558484494566\n"
     ]
    }
   ],
   "source": [
    "def m1_m2(c_i,x2bar,x1bar,sigma1,sigma2,n1,n2):\n",
    "    diff=x2bar-x1bar\n",
    "    e = (sp.norm.ppf(c_i/2))*(sqrt(((sigma1*sigma1)/n1) + ((sigma2*sigma2)/n2)))\n",
    "    print(diff+e,'< m1-m2 <',diff-e)\n",
    "                              \n",
    "                              \n",
    "m1_m2(0.99,144,149,19.01,14.21,6,6)"
   ]
  },
  {
   "cell_type": "code",
   "execution_count": 36,
   "metadata": {},
   "outputs": [
    {
     "name": "stdout",
     "output_type": "stream",
     "text": [
      "Degree of freedom : 27.817674967418327\n"
     ]
    }
   ],
   "source": [
    "def df(s1,s2,n1,n2):\n",
    "    num = (((s1*s1)/n1) + ((s2*s2)/n2))**2\n",
    "    den = (((1/(n1-1))*((s1*s1)/n1)**2)) + (((1/(n2-1))*((s2*s2)/n2)**2))\n",
    "    df = num/den\n",
    "    print(\"Degree of freedom :\",df)\n",
    "df(0.2025,0.219615,15,15)"
   ]
  },
  {
   "cell_type": "markdown",
   "metadata": {},
   "source": [
    " When σ1 and σ2 Unknown and Sample size is small "
   ]
  },
  {
   "cell_type": "code",
   "execution_count": 8,
   "metadata": {},
   "outputs": [
    {
     "name": "stdout",
     "output_type": "stream",
     "text": [
      "4.87548879595364 < m1-m2 < 5.12451120404636\n"
     ]
    }
   ],
   "source": [
    "# for t distribution\n",
    "def m1_m2_t(c_i,x2bar,x1bar,sigma1,sigma2,n1,n2):\n",
    "    diff=x2bar-x1bar\n",
    "    e = (sp.t.ppf(c_i/2,n1+n2-2))*(sqrt(((sigma1*sigma1)/n1) + ((sigma2*sigma2)/n2)))\n",
    "    print(diff+e,'< m1-m2 <',diff-e)\n",
    "\n",
    "m1_m2_t(0.99,149,144,19.01,14.21,6,6)"
   ]
  },
  {
   "cell_type": "markdown",
   "metadata": {},
   "source": [
    "Paired Sample"
   ]
  },
  {
   "cell_type": "code",
   "execution_count": 104,
   "metadata": {},
   "outputs": [
    {
     "name": "stdout",
     "output_type": "stream",
     "text": [
      "Mean:  35.0\n",
      "[50, 10, -10, 70, 60, 30]\n",
      "n : 6\n",
      "[225.0, 625.0, 2025.0, 1225.0, 625.0, 25.0]\n",
      "SD : 30.822070014844883\n",
      "0.025000000000000022\n",
      "-32.34577878125915\n",
      "2.654221218740851 < Interval < 67.34577878125916\n"
     ]
    }
   ],
   "source": [
    "y = [530,280,310,480,500,420]\n",
    "x = [580,290,300,550,560,450]\n",
    "di = []\n",
    "for i in range(len(x)):\n",
    "    for j in range(len(y)):\n",
    "        if i==j:\n",
    "            di.append(x[i]-y[j])\n",
    "d_bar = sum(di)/len(x)\n",
    "print('Mean: ',d_bar)\n",
    "print(di)\n",
    "n = len(x)\n",
    "print('n :',n)\n",
    "sd_bar = []\n",
    "for k in range(len(di)):\n",
    "    sd_bar.append((di[k]-d_bar)**2)\n",
    "print(sd_bar)\n",
    "z = sqrt(sum(sd_bar)/(n-1))\n",
    "print('SD :',z)\n",
    "alpha = (1-0.95)/2\n",
    "print(alpha)\n",
    "s = (sp.t.ppf(alpha,n-1))*(z/sqrt(n))\n",
    "s1 = (sp.t.ppf(1-alpha,n-1))*(z/sqrt(n))\n",
    "print(s)\n",
    "print(d_bar+s,'< Interval <',d_bar+s1)"
   ]
  },
  {
   "cell_type": "markdown",
   "metadata": {},
   "source": [
    "Confidence interval for the ratio of variances"
   ]
  },
  {
   "cell_type": "code",
   "execution_count": 110,
   "metadata": {},
   "outputs": [
    {
     "name": "stdout",
     "output_type": "stream",
     "text": [
      "0.04999999999999999 0.95\n",
      "0.43243604267718994 Ratio of sigma 4.097671977650541\n"
     ]
    }
   ],
   "source": [
    "def c_i_r_v(s1,s2,n1,n2,c_i):\n",
    "    alpha = (1-c_i)/2\n",
    "    #print(alpha,1-alpha)\n",
    "    f_d = sp.f.ppf(1-alpha,n1-1,n2-1)\n",
    "    f_d_1 = sp.f.ppf(alpha,n1-1,n2-1)\n",
    "    num = (s1*s1)/((s2*s2))\n",
    "    a = num*(1/f_d)\n",
    "    b = num*(1/f_d_1)\n",
    "    print(a,'Ratio of sigma',b)\n",
    "c_i_r_v(8,7,10,11,0.9)"
   ]
  },
  {
   "cell_type": "code",
   "execution_count": 111,
   "metadata": {},
   "outputs": [
    {
     "data": {
      "text/plain": [
       "0.02275013194817921"
      ]
     },
     "execution_count": 111,
     "metadata": {},
     "output_type": "execute_result"
    }
   ],
   "source": [
    "1-sp.norm.cdf(75,55,10)"
   ]
  },
  {
   "cell_type": "code",
   "execution_count": null,
   "metadata": {},
   "outputs": [],
   "source": []
  }
 ],
 "metadata": {
  "kernelspec": {
   "display_name": "Python 3",
   "language": "python",
   "name": "python3"
  },
  "language_info": {
   "codemirror_mode": {
    "name": "ipython",
    "version": 3
   },
   "file_extension": ".py",
   "mimetype": "text/x-python",
   "name": "python",
   "nbconvert_exporter": "python",
   "pygments_lexer": "ipython3",
   "version": "3.7.3"
  }
 },
 "nbformat": 4,
 "nbformat_minor": 2
}
