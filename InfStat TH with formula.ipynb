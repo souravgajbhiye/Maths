{
 "cells": [
  {
   "cell_type": "markdown",
   "metadata": {},
   "source": [
    "#  Testing of Hypothesis (with formula)"
   ]
  },
  {
   "cell_type": "code",
   "execution_count": 2,
   "metadata": {},
   "outputs": [],
   "source": [
    "import scipy.stats as ss\n",
    "import numpy as np"
   ]
  },
  {
   "cell_type": "markdown",
   "metadata": {},
   "source": [
    "# Z Tests"
   ]
  },
  {
   "cell_type": "markdown",
   "metadata": {
    "collapsed": true
   },
   "source": [
    "### 1. Teat for Mean (Z-test)"
   ]
  },
  {
   "cell_type": "code",
   "execution_count": 3,
   "metadata": {},
   "outputs": [
    {
     "ename": "SyntaxError",
     "evalue": "invalid syntax (<ipython-input-3-0d2e37c891f8>, line 3)",
     "output_type": "error",
     "traceback": [
      "\u001b[1;36m  File \u001b[1;32m\"<ipython-input-3-0d2e37c891f8>\"\u001b[1;36m, line \u001b[1;32m3\u001b[0m\n\u001b[1;33m    Mu0=\u001b[0m\n\u001b[1;37m        ^\u001b[0m\n\u001b[1;31mSyntaxError\u001b[0m\u001b[1;31m:\u001b[0m invalid syntax\n"
     ]
    }
   ],
   "source": [
    "Xbar=37.7\n",
    "SD=9.2\n",
    "Mu0=\n",
    "Alpha= 0.01 #(at 5% los: Use Lower_alpha=0.05, upper_alpha=0.95, twotailed_alpha=0.025)\n",
    "n=100\n",
    "Z=(Xbar-Mu0)*(n**0.5)/SD\n",
    "cri=ss.norm.ppf(Alpha) #if it is two tailed consider resultant value as +/-."
   ]
  },
  {
   "cell_type": "markdown",
   "metadata": {},
   "source": [
    "### 2. Test for equality of Means (Z-test)"
   ]
  },
  {
   "cell_type": "code",
   "execution_count": null,
   "metadata": {
    "collapsed": true
   },
   "outputs": [],
   "source": [
    "X1bar=\n",
    "SD=\n",
    "X2bar=\n",
    "SD2=\n",
    "n1=\n",
    "n2=\n",
    "Alpha= #(at 5% los: use Lower_alpha=0.05, upper_alpha=0.95, twotailed_alpha=0.025)\n",
    "Z=(X1bar-X2bar)/((SD1**2/n1)+(SD2**2/n2))**(0.5)\n",
    "cri=ss.norm.ppf(Alpha) #if it is two tailed consider resultant value as +/-."
   ]
  },
  {
   "cell_type": "markdown",
   "metadata": {},
   "source": [
    "### 3. Test for Proportion (Z-test)"
   ]
  },
  {
   "cell_type": "code",
   "execution_count": 9,
   "metadata": {},
   "outputs": [
    {
     "name": "stdout",
     "output_type": "stream",
     "text": [
      "-17.535616553735874 -1.6448536269514729\n"
     ]
    }
   ],
   "source": [
    "x=13\n",
    "n=82\n",
    "p=x/n\n",
    "P0=0.85\n",
    "Alpha= 0.05 #(at 5% los: Use Lower_alpha=0.05, upper_alpha=0.95, twotailed_alpha=0.025)\n",
    "Z=(p-P0)/((P0*(1-P0)/n)**(0.5))\n",
    "cri=ss.norm.ppf(Alpha) #if it is two tailed consider resultant value as +/-.\n",
    "print(Z,cri)"
   ]
  },
  {
   "cell_type": "markdown",
   "metadata": {},
   "source": [
    "### 4. Test for equality of Proportion (Z-test)"
   ]
  },
  {
   "cell_type": "code",
   "execution_count": 7,
   "metadata": {},
   "outputs": [
    {
     "name": "stdout",
     "output_type": "stream",
     "text": [
      "-1.6448536269514729\n"
     ]
    }
   ],
   "source": [
    "x1=40.4\n",
    "n1=8\n",
    "p1=x1/n1\n",
    "x2=62.6\n",
    "n2=10\n",
    "p2=x2/n2\n",
    "Pcap=((x1+x2)/(n1+n2))\n",
    "Alpha=0.05 #(at 5% los: Use Lower_alpha=0.05, upper_alpha=0.95, twotailed_alpha=0.025)\n",
    "Z=(p1-p2)/(((Pcap*(1-Pcap))*((1/n1)+(1/n2)))**(0.5))\n",
    "cri=ss.norm.ppf(Alpha) #if it is two tailed consider resultant value as +/-.\n",
    "print(cri)"
   ]
  },
  {
   "cell_type": "markdown",
   "metadata": {},
   "source": [
    "# t Tests"
   ]
  },
  {
   "cell_type": "markdown",
   "metadata": {},
   "source": [
    "### 1. Teat for Mean (t-test)"
   ]
  },
  {
   "cell_type": "code",
   "execution_count": 7,
   "metadata": {},
   "outputs": [
    {
     "name": "stdout",
     "output_type": "stream",
     "text": [
      "0.8771929824561412 -4.540702858698421\n",
      "5.84090929975643\n"
     ]
    }
   ],
   "source": [
    "Xbar=0.02075\n",
    "SD=0.00171\n",
    "Mu0=0.02\n",
    "Alpha=0.01 #(at 5% los: Use Lower_alpha=0.05, upper_alpha=0.95, twotailed_alpha=0.025)\n",
    "n=4\n",
    "t=(Xbar-Mu0)*(n**0.5)/SD\n",
    "cri=ss.t.ppf(Alpha,(n-1))\n",
    "print(t,cri)#if it is two tailed consider resultant value as +/-.\n",
    "print(ss.t.ppf(0.995,3))"
   ]
  },
  {
   "cell_type": "markdown",
   "metadata": {},
   "source": [
    "### 2. Test for equality of Means (t-test)"
   ]
  },
  {
   "cell_type": "code",
   "execution_count": 6,
   "metadata": {},
   "outputs": [],
   "source": [
    "s1=19.05\n",
    "s2=14.21\n",
    "n1=6\n",
    "n2=6\n",
    "x1bar=144\n",
    "x2bar=149"
   ]
  },
  {
   "cell_type": "code",
   "execution_count": 7,
   "metadata": {},
   "outputs": [
    {
     "name": "stdout",
     "output_type": "stream",
     "text": [
      "1.3406052076002815\n",
      "Use equal variance case\n"
     ]
    }
   ],
   "source": [
    "k=s1/s2\n",
    "print(k)\n",
    "if k<=2 and k>=0.5:\n",
    "    print(\"Use equal variance case\")\n",
    "else:\n",
    "    print(\"Use unequal variance case\")"
   ]
  },
  {
   "cell_type": "markdown",
   "metadata": {},
   "source": [
    "#### Case 1: Unequal variance"
   ]
  },
  {
   "cell_type": "code",
   "execution_count": 10,
   "metadata": {},
   "outputs": [
    {
     "name": "stdout",
     "output_type": "stream",
     "text": [
      "-2.8057267526670557\n"
     ]
    }
   ],
   "source": [
    "Alpha= 0.01#(at 5% los: use Lower_alpha=0.05, upper_alpha=0.95, twotailed_alpha=0.025)\n",
    "t=(x1bar-x2bar)/((s1**2/n1)+(s2**2/n2))**(0.5)\n",
    "\n",
    "N=((s1**2/n1)+(s2**2/n2))**2\n",
    "D1=(1/(n1-1))*((s1**2)/n1)**2\n",
    "D2=(1/(n2-1))*((s2**2)/n2)**2\n",
    "df=N/(D1+D2)\n",
    "cri=ss.t.ppf(Alpha,df) #if it is two tailed consider resultant value as +/-.\n",
    "print(cri)"
   ]
  },
  {
   "cell_type": "markdown",
   "metadata": {},
   "source": [
    "#### Case 2: Equal variance"
   ]
  },
  {
   "cell_type": "code",
   "execution_count": null,
   "metadata": {
    "collapsed": true
   },
   "outputs": [],
   "source": [
    "Alpha= #(at 5% los: use Lower_alpha=0.05, upper_alpha=0.95, twotailed_alpha=0.025)\n",
    "Sp=(((n1-1)*(s1**2)/(n1+n2-2))+((n2-1)*(s2**2)/(n1+n2-2)))**(1/2)\n",
    "t=(X1bar-X2bar) / (Sp*((1/n1)+(1/n2)))**(0.5)\n",
    "cri=ss.t.ppf(Alpha,(n1+n2-2)) #if it is two tailed consider resultant value as +/-."
   ]
  },
  {
   "cell_type": "markdown",
   "metadata": {},
   "source": [
    "### 3. Paired t-Test"
   ]
  },
  {
   "cell_type": "code",
   "execution_count": null,
   "metadata": {
    "collapsed": true
   },
   "outputs": [],
   "source": [
    "Xbar_diff=\n",
    "SD_diff=\n",
    "n=\n",
    "Alpha= #(at 5% los: Use Lower_alpha=0.05, upper_alpha=0.95, twotailed_alpha=0.025)\n",
    "t=(Xbar_diff)*(n**0.5)/SD_diff\n",
    "cri=ss.t.ppf(Alpha,(n-1)) #if it is two tailed consider resultant value as +/-."
   ]
  },
  {
   "cell_type": "markdown",
   "metadata": {},
   "source": [
    "# Chi_square Test"
   ]
  },
  {
   "cell_type": "markdown",
   "metadata": {},
   "source": [
    "### Test for variance"
   ]
  },
  {
   "cell_type": "code",
   "execution_count": null,
   "metadata": {
    "collapsed": true
   },
   "outputs": [],
   "source": [
    "s=(0.36)**0.5\n",
    "sigma=\n",
    "n=\n",
    "Alpha= #(at 5% los: Use Lower_alpha=0.05, upper_alpha=0.95, twotailed_alpha=0.025)\n",
    "chi2=(n-1)*(s**2)/sigma**2\n",
    "cri=ss.chi2.ppf(Alpha,(n-1)) #if it is two tailed consider resultant value as +/-."
   ]
  },
  {
   "cell_type": "markdown",
   "metadata": {},
   "source": [
    "# F Test"
   ]
  },
  {
   "cell_type": "markdown",
   "metadata": {},
   "source": [
    "### Test for equality of variance"
   ]
  },
  {
   "cell_type": "code",
   "execution_count": null,
   "metadata": {
    "collapsed": true
   },
   "outputs": [],
   "source": [
    "s1=\n",
    "s2=\n",
    "n1=\n",
    "n2=\n",
    "Alpha= #(at 5% los: Use Lower_alpha=0.05, upper_alpha=0.95, twotailed_alpha=0.025)\n",
    "F=s1**2/s2**2\n",
    "cri=ss.f.ppf(Alpha,(n1-1),(n2-1)) #if it is two tailed consider resultant value as +/-."
   ]
  }
 ],
 "metadata": {
  "kernelspec": {
   "display_name": "Python 3",
   "language": "python",
   "name": "python3"
  },
  "language_info": {
   "codemirror_mode": {
    "name": "ipython",
    "version": 3
   },
   "file_extension": ".py",
   "mimetype": "text/x-python",
   "name": "python",
   "nbconvert_exporter": "python",
   "pygments_lexer": "ipython3",
   "version": "3.7.3"
  }
 },
 "nbformat": 4,
 "nbformat_minor": 2
}
