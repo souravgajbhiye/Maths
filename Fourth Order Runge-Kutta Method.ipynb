{
 "cells": [
  {
   "cell_type": "code",
   "execution_count": 1,
   "metadata": {},
   "outputs": [],
   "source": [
    "\n",
    "\n",
    "# Fourth Order Runge-Kutta Method of solving a system of first order DEs\n",
    "# =============================\n",
    "# A higher order DE can be converted to a system of 2 first order DEs\n",
    "#\n",
    "# The IVP should look like:\n",
    "# x'(t) = f(t,x,y) where t belongs to [a,b]\n",
    "# y'(t) = g(t,x,y) where t belongs to [a,b]\n",
    "# x(a) = alpha\n",
    "# y(a) = beta\n",
    "#\n",
    "# You should also be given either h (the step-size) or N (the number of sub-intervals)\n",
    "#\n",
    "# The solutions are approximated by w and v\n",
    "\n",
    "\n",
    "# Set these vars with the given information in the problem\n",
    "# ========================================================\n",
    "\n"
   ]
  },
  {
   "cell_type": "code",
   "execution_count": 5,
   "metadata": {},
   "outputs": [
    {
     "name": "stdout",
     "output_type": "stream",
     "text": [
      "t_0 =  0.00            w_0 =   0.000000            v_0 =   1.000000\n",
      "t_1 =  0.10            w_1 =   0.099679            v_1 =   0.990492\n"
     ]
    }
   ],
   "source": [
    "from __future__ import division\n",
    "import math\n",
    "\n",
    "a = 0\n",
    "b = 0.1\n",
    "alpha = 0\n",
    "beta = 1\n",
    "\n",
    "def f(t,x,y):\n",
    "    return y\n",
    "\n",
    "def g(t,x,y):\n",
    "    _lambda = 1/2\n",
    "    w_0 = 1\n",
    "    return math.exp(-t) - 2*_lambda*y - w_0**2 * x\n",
    "\n",
    "# set only 1 of these\n",
    "h = None\n",
    "N = 1\n",
    "\n",
    "exact_soln_exists = False\n",
    "def exact_soln(t):\n",
    "    return math.sqrt(t**2 + 1)\n",
    "\n",
    "\n",
    "if h:\n",
    "    N = int((b-a)/h)\n",
    "else:\n",
    "    h = (b-a)/N\n",
    "\n",
    "w, w_prev = None, None\n",
    "v, v_prev = None, None\n",
    "\n",
    "for i in range(0,N+1):\n",
    "\n",
    "    t = a + i*h\n",
    "\n",
    "    if i == 0:\n",
    "        w = alpha\n",
    "        v = beta\n",
    "    else:\n",
    "        w_prev = w\n",
    "        v_prev = v\n",
    "\n",
    "        k1 = h*f(t-h, w_prev, v_prev)\n",
    "        m1 = h*g(t-h, w_prev, v_prev)\n",
    "        k2 = h*f(t-h + h/2, w_prev + k1/2, v_prev + m1/2)\n",
    "        m2 = h*g(t-h + h/2, w_prev + k1/2, v_prev + m1/2)\n",
    "        k3 = h*f(t-h + h/2, w_prev + k2/2, v_prev + m2/2)\n",
    "        m3 = h*g(t-h + h/2, w_prev + k2/2, v_prev + m2/2)\n",
    "        k4 = h*f(t-h + h, w_prev + k3, v_prev + m3)\n",
    "        m4 = h*g(t-h + h, w_prev + k3, v_prev + m3)\n",
    "\n",
    "        w = w_prev + 1/6 * (k1 + 2*k2 + 2*k3 + k4)\n",
    "        v = v_prev + 1/6 * (m1 + 2*m2 + 2*m3 + m4)\n",
    "\n",
    "    spaces = 10*' '\n",
    "    if exact_soln_exists:\n",
    "        x_t = exact_soln(t)\n",
    "        error = abs(x_t - w)\n",
    "        print ('t_{0} = {1} {2} w_{0} = {3} {2} v_{0} = {6} {2} x({0}) = {4} {2} x({0}) - w_{0} = {5}'.format(\n",
    "            str(i), '{:5.2f}'.format(t), spaces, '{:10.6f}'.format(w), '{:10.6f}'.format(x_t), '{:10.6f}'.format(error), '{:10.6f}'.format(v)\n",
    "        ))\n",
    "    else:\n",
    "        print ('t_{0} = {1} {2} w_{0} = {3} {2} v_{0} = {4}'.format(\n",
    "            str(i), '{:5.2f}'.format(t), spaces, '{:10.6f}'.format(w), '{:10.6f}'.format(v)\n",
    "        ))"
   ]
  },
  {
   "cell_type": "code",
   "execution_count": null,
   "metadata": {},
   "outputs": [],
   "source": []
  }
 ],
 "metadata": {
  "kernelspec": {
   "display_name": "Python 3",
   "language": "python",
   "name": "python3"
  },
  "language_info": {
   "codemirror_mode": {
    "name": "ipython",
    "version": 3
   },
   "file_extension": ".py",
   "mimetype": "text/x-python",
   "name": "python",
   "nbconvert_exporter": "python",
   "pygments_lexer": "ipython3",
   "version": "3.7.3"
  }
 },
 "nbformat": 4,
 "nbformat_minor": 2
}
